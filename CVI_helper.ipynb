{
  "nbformat": 4,
  "nbformat_minor": 0,
  "metadata": {
    "colab": {
      "name": "CVI helper",
      "provenance": [],
      "collapsed_sections": [
        "thYFnTkaxkI_",
        "dpuNrtCr3H9b",
        "NYnsWXUeDFsz",
        "BzVKATbdObVr",
        "kujaTYE6TOy8",
        "vKcR9_6icA9z",
        "U7_H4jUn7ask",
        "vR-AK2LhD2jF",
        "cLRvQL5qMHkq",
        "tbVFe4xqTXaK",
        "6jCBfwjc3WJn",
        "rCZ4dZQ55hOZ",
        "ndvzsSaFqgcU",
        "YdmhC7gMjU_e",
        "69HOjKsFwake",
        "mS05uMt7mpnR",
        "gnHKinzLY0F-"
      ],
      "toc_visible": true,
      "include_colab_link": true
    },
    "kernelspec": {
      "name": "python3",
      "display_name": "Python 3"
    }
  },
  "cells": [
    {
      "cell_type": "markdown",
      "metadata": {
        "id": "view-in-github",
        "colab_type": "text"
      },
      "source": [
        "<a href=\"https://colab.research.google.com/github/Mikcl/CviTekkers/blob/main/CVI_helper.ipynb\" target=\"_parent\"><img src=\"https://colab.research.google.com/assets/colab-badge.svg\" alt=\"Open In Colab\"/></a>"
      ]
    },
    {
      "cell_type": "code",
      "metadata": {
        "id": "ln4-uje614TR"
      },
      "source": [
        "# MAKE SURE TO RUN THIS FIRST before any of the rest!!\n",
        "\n",
        "import numpy as np\n",
        "import torch\n",
        "import torch.nn.functional as F\n",
        "import scipy.stats as st\n",
        "from scipy.cluster.hierarchy import dendrogram, linkage\n",
        "from scipy.spatial.distance import cdist, pdist, squareform\n",
        "from sklearn.cluster import AgglomerativeClustering\n",
        "from matplotlib import pyplot as plt\n",
        "import math\n",
        "\n",
        "def element_wise_average(arr):\n",
        "  return np.mean(arr, axis=0)\n",
        "\n",
        "# SIMILARITY\n",
        "\n",
        "# Minimise\n",
        "SSD = lambda u, v: ((u-v)**2).sum()    \n",
        "euclidean = lambda u, v: np.sqrt(((u-v)**2).sum())    \n",
        "SAD = lambda u, v: np.absolute(u-v).sum()           \n",
        "\n",
        "# Maximise\n",
        "# requires 2*(size*size) - 1 opperations\n",
        "cross_correlation = lambda u, v: np.multiply(u,v).sum()\n",
        "\n",
        "# aka cosine of the angle\n",
        "normalised_cross_correlation = lambda u, v: np.divide(   \n",
        "    np.multiply(u,v).sum(),                             \n",
        "    np.multiply(                                        \n",
        "        np.sqrt(np.square(u).sum()),                    \n",
        "        np.sqrt(np.square(v).sum())                     \n",
        "    )                                                   \n",
        ")\n",
        "\n",
        "correlation_coefficient = lambda u, v: normalised_cross_correlation(\n",
        "    np.subtract(u, element_wise_average(u)),\n",
        "    np.subtract(v, element_wise_average(v))\n",
        ")\n",
        "\n",
        "# HELPERS\n",
        "\n",
        "def all_similiarities(X, method):\n",
        "  '''\n",
        "    method - euclidean, SAD, cross_correlation, normalised_cross_correlation ...\n",
        "    X - [[]] - list of features\n",
        "  '''\n",
        "  dm = pdist(X, method)\n",
        "  return squareform(dm)\n",
        "\n",
        "def np_square_pad(m):\n",
        "  return np.pad(m, [(1, 1), (1, 1)], mode='constant', constant_values=0)\n",
        "\n",
        "def get_matrix_patches(X,size,pad=False):\n",
        "  '''\n",
        "    X - [[]]\n",
        "    size - n x n sized patch to create\n",
        "    pad - add 0 pad if True\n",
        "\n",
        "    returns [[[]]]  - of shape (rows,cols,size,size)\n",
        "  '''\n",
        "  x = X if not pad else np_square_pad(X)\n",
        "  t = torch.tensor(x)\n",
        "  res = t.unfold(0, size, 1).unfold(1,size,1).numpy()\n",
        "  return res"
      ],
      "execution_count": null,
      "outputs": []
    },
    {
      "cell_type": "markdown",
      "metadata": {
        "id": "AUpfetyl3eQ6"
      },
      "source": [
        "(use ctrl+arrows and ctrl+shift+arrows for quick highlighting)"
      ]
    },
    {
      "cell_type": "markdown",
      "metadata": {
        "id": "thYFnTkaxkI_"
      },
      "source": [
        "## RGB to Grey\n"
      ]
    },
    {
      "cell_type": "code",
      "metadata": {
        "id": "yvJQCWTNxsYu"
      },
      "source": [
        "# Arguments - Matricies\n",
        "\n",
        "R = [\n",
        "     [208, 233,  71],\n",
        "     [231, 161, 140],\n",
        "     [32,  24,  245],\n",
        "]\n",
        "\n",
        "G = [\n",
        "     [247 ,245 , 36],\n",
        "     [40  ,124, 107],\n",
        "     [248 ,204, 234],\n",
        "]\n",
        "\n",
        "B = [\n",
        "     [202,  9,  173],\n",
        "     [245, 217, 193],\n",
        "     [167, 239, 190],\n",
        "]\n"
      ],
      "execution_count": null,
      "outputs": []
    },
    {
      "cell_type": "code",
      "metadata": {
        "id": "tvZ1IfqvxgbB"
      },
      "source": [
        "\n",
        "  "
      ],
      "execution_count": null,
      "outputs": []
    },
    {
      "cell_type": "code",
      "metadata": {
        "id": "nrFa047f2ZNf"
      },
      "source": [
        "RGB = np.array([R,G,B])\n",
        "print(\"round to nearest int?\")\n",
        "element_wise_average(RGB)"
      ],
      "execution_count": null,
      "outputs": []
    },
    {
      "cell_type": "markdown",
      "metadata": {
        "id": "dpuNrtCr3H9b"
      },
      "source": [
        "## Convolution 2D"
      ]
    },
    {
      "cell_type": "code",
      "metadata": {
        "id": "IKx_x5Ey3P8K"
      },
      "source": [
        "# Arguments - note: the code does the rotations/flips\n",
        "# make sure IMAGE is IMAGE, mask is mask \n",
        "# start with padding = 0, increment if need bigger size.\n",
        "Image = [\n",
        "      [0.1, 0.5, 1],\n",
        "      [0, 0.1, 0.3],\n",
        "      [0.4, 0.6, 0.2],  \n",
        "]\n",
        "\n",
        "mask = [\n",
        "    [0.01, 0.09, 0.01],\n",
        "    [0.09, 0.64, 0.09],\n",
        "    [0.01, 0.09, 0.01], \n",
        "     \n",
        "]\n",
        "padding = 0     #"
      ],
      "execution_count": null,
      "outputs": []
    },
    {
      "cell_type": "code",
      "metadata": {
        "id": "Ayu2_KnC61lH"
      },
      "source": [
        "def conv2d(image, mask, pad=0):\n",
        "  '''\n",
        "    image - [[num]]\n",
        "    mask - [[num]]\n",
        "  '''\n",
        "  t_i = torch.tensor(image).float()\n",
        "  t_m = torch.tensor(mask).flip(0).flip(1).float()\n",
        "  result = F.conv2d(t_i[None, None, ...], t_m[None, None,...], padding=pad)\n",
        "  return result\n",
        "\n",
        "conv2d(Image, mask, pad=padding)"
      ],
      "execution_count": null,
      "outputs": []
    },
    {
      "cell_type": "markdown",
      "metadata": {
        "id": "NYnsWXUeDFsz"
      },
      "source": [
        "## Gaussian 2D Generation help\n"
      ]
    },
    {
      "cell_type": "code",
      "metadata": {
        "id": "FpS6Q6xcDNIk",
        "colab": {
          "base_uri": "https://localhost:8080/"
        },
        "outputId": "b1e73ce6-e5de-4fdb-f088-049da0385774"
      },
      "source": [
        "#  G(x,y) = 1/2piσ^2 exp(- (x^2 + y^2)/ 2σ^2)\n",
        "sigma = 0.6   # standard deviation\n",
        "size = 3       # ideally >=6*σ , not too big for efficiency\n",
        "\n",
        "# Calculate for x,y where x,y = 0,0 is the center\n",
        "x, y = np.mgrid[-size//2 + 1:size//2 + 1, -size//2 + 1:size//2 + 1]\n",
        "g = (np.exp(-((x**2 + y**2)/(2.0*sigma**2)))) / (2*np.pi*sigma**2)\n",
        "g"
      ],
      "execution_count": null,
      "outputs": [
        {
          "output_type": "execute_result",
          "data": {
            "text/plain": [
              "array([[0.02768181, 0.11101489, 0.02768181],\n",
              "       [0.11101489, 0.44521319, 0.11101489],\n",
              "       [0.02768181, 0.11101489, 0.02768181]])"
            ]
          },
          "metadata": {
            "tags": []
          },
          "execution_count": 45
        }
      ]
    },
    {
      "cell_type": "markdown",
      "metadata": {
        "id": "BzVKATbdObVr"
      },
      "source": [
        "## Convolution, Number of computations\n"
      ]
    },
    {
      "cell_type": "code",
      "metadata": {
        "id": "Jv7pWtrDOinJ"
      },
      "source": [
        "#  arguments , number of ops named by function name.\n",
        "\n",
        "mask_len = 11     # number of cells across. \n",
        "image_x = 300\n",
        "image_y = 200\n"
      ],
      "execution_count": null,
      "outputs": []
    },
    {
      "cell_type": "code",
      "metadata": {
        "colab": {
          "base_uri": "https://localhost:8080/"
        },
        "id": "fw038efVOo9i",
        "outputId": "380c24d7-55c4-45c5-bbbc-c28369a5a307"
      },
      "source": [
        "def number_of_operations_non_separable(mask_len, width, height):\n",
        "  step_one = (mask_len * mask_len) + (mask_len*mask_len -1)\n",
        "  step_two = width*height*step_one\n",
        "  return step_two\n",
        "\n",
        "number_of_operations_non_separable(mask_len, image_x, image_y)\n"
      ],
      "execution_count": null,
      "outputs": [
        {
          "output_type": "execute_result",
          "data": {
            "text/plain": [
              "14460000"
            ]
          },
          "metadata": {
            "tags": []
          },
          "execution_count": 19
        }
      ]
    },
    {
      "cell_type": "code",
      "metadata": {
        "id": "oUKGNkwTPvwg"
      },
      "source": [
        "def number_of_ops_separable(mask_len, width, height):\n",
        "  # convolve with [mask_len x 1], then with [mask_len x 1]T\n",
        "  step_one = (mask_len+mask_len -1) * width * height\n",
        "  step_two = (mask_len+mask_len -1) * width * height\n",
        "  result = step_one + step_two\n",
        "  return result\n",
        "\n",
        "number_of_ops_separable(mask_len, image_x, image_y)"
      ],
      "execution_count": null,
      "outputs": []
    },
    {
      "cell_type": "code",
      "metadata": {
        "id": "6jQ9eEQ4Q2FI"
      },
      "source": [
        "'''\n",
        "Convolving the image with a DoG is equivalent to\n",
        "convolving the image with a Gaussian and \n",
        "subtracting the result of convolving the image with another Gaussian.\n",
        "'''\n",
        "def DoG_number_of_ops_exploit(mask_len, width, height):\n",
        "  one_d_conv_ops = number_of_ops_separable(mask_len, width, height)\n",
        "  result = (2 * one_d_conv_ops) + (width*height)\n",
        "  return result\n",
        "\n",
        "\n",
        "\n",
        "DoG_number_of_ops_exploit(mask_len, image_x, image_y)"
      ],
      "execution_count": null,
      "outputs": []
    },
    {
      "cell_type": "markdown",
      "metadata": {
        "id": "kujaTYE6TOy8"
      },
      "source": [
        "## Aggloerative H Clustering\n",
        "\n"
      ]
    },
    {
      "cell_type": "code",
      "metadata": {
        "id": "uJ9OAROmTZuN"
      },
      "source": [
        "# Arguments - CENTRIOD NOT AVAILABLE - do by hand! :(\n",
        "\n",
        "number_of_cluster = 3\n",
        "\n",
        "C_FEATURES = [\n",
        "    [5,10,20],\n",
        "    [15,5,5],\n",
        "    [10,20,15],\n",
        "    [5,5,20],\n",
        "    [15,15,15],\n",
        "    [20,14,10],          \n",
        "]\n",
        "# 'complete' (maximum distance)\n",
        "# 'average' (average distances between clusters) (THIS IS NOT CENTROID)\n",
        "# 'single' (minimum distance)\n",
        "link = 'average'\n",
        "# 'manhatten' for SAD, or 'euclidean'  --> if its something else oh well.\n",
        "aff='manhattan'\n",
        "\n",
        "\n",
        "\n",
        "\n",
        "# EXTRA\n",
        "\n",
        "# IF YOU DONT KNOW THE NUMBER OF CLUSTERS --> or want to see break own\n",
        "metric = 'cityblock'  # 'euclidean'\n",
        "# same as above 'centroid' (centroid)\n",
        "# cant use SAD/cityblock with centroid, must be eucidean\n",
        "link_method= 'average'\n"
      ],
      "execution_count": null,
      "outputs": []
    },
    {
      "cell_type": "code",
      "metadata": {
        "id": "KmkkBLTFW5h7"
      },
      "source": [
        "# Standard clustering\n",
        "def clustering(X,num, aff, link):\n",
        "  cluster = AgglomerativeClustering(n_clusters=num, affinity=aff, linkage=link)\n",
        "  result = cluster.fit_predict(X)\n",
        "  return result\n",
        "\n",
        "clustering(C_FEATURES, number_of_cluster, aff, link)\n"
      ],
      "execution_count": null,
      "outputs": []
    },
    {
      "cell_type": "code",
      "metadata": {
        "id": "OZOouNKXiamR"
      },
      "source": [
        "# Prints dendogram\n",
        "def clustering2(X,method, metric):\n",
        "  Z = linkage(X, method=method, metric=metric)\n",
        "  fig = plt.figure(figsize=(25, 10))\n",
        "  dn = dendrogram(Z)\n",
        "  plt.show()\n",
        "\n",
        "\n",
        "clustering2(C_FEATURES, link_method, metric)"
      ],
      "execution_count": null,
      "outputs": []
    },
    {
      "cell_type": "code",
      "metadata": {
        "id": "p11C7iHmW807"
      },
      "source": [
        "# Computing Just Linkage Distances between two clusters\n",
        "# Compute Distances between each feature in clusterA and clusterB\n",
        "'''\n",
        "    | B1  | B2 | B...\n",
        "A1  |     |    |\n",
        ".\n",
        ".\n",
        ".\n",
        "AN\n",
        "'''\n",
        "# Then calculate for each linkage type. \n",
        "ALL_FEATURES = [\n",
        "[1, 2, 4, 2], [2, 3, 2, 2], [1, 2, 1, 0], [1, 5, 4,1 ]      \n",
        "]\n",
        "\n",
        "all_similiarities(ALL_FEATURES, SAD)"
      ],
      "execution_count": null,
      "outputs": []
    },
    {
      "cell_type": "markdown",
      "metadata": {
        "id": "vKcR9_6icA9z"
      },
      "source": [
        "## K Means Helper / Similarity between vectors"
      ]
    },
    {
      "cell_type": "code",
      "metadata": {
        "id": "H-JGnTd8cFYm"
      },
      "source": [
        "# Computes similarities:\n",
        "# K means Done mostly by by hand :/\n",
        "\n",
        "'''\n",
        "E.g.\n",
        "given R = [[]], G = [[]], B = [[]]\n",
        "and n init_clsuter with three elements each = [3].\n",
        "\n",
        "Compute distance to all pixels\n",
        "(e.g. top left pixel is the top left in R,G and B)\n",
        "\n",
        "Select min distance to assign. \n",
        "'''\n",
        "\n",
        "K_ALL_FEATURES = [\n",
        "      [2, 1, 2, 1],\n",
        "      [2, 3.5, 0.5, 2],\n",
        "      [0.5, 0.75, 3.5, 1]        \n",
        "]\n",
        "# euclidean, SAD, cross_correlation, normalised_cross_correlation, correlation_coefficient\n",
        "s_metric = normalised_cross_correlation\n",
        "\n",
        "# similarirty of K_ALL_FEATURES[0]\n",
        "# will be in row 0 and col 0 matchting to others\n",
        "\n",
        "all_similiarities(K_ALL_FEATURES, s_metric)"
      ],
      "execution_count": null,
      "outputs": []
    },
    {
      "cell_type": "markdown",
      "metadata": {
        "id": "U7_H4jUn7ask"
      },
      "source": [
        "## Pinhole camera & Thin Lens"
      ]
    },
    {
      "cell_type": "code",
      "metadata": {
        "id": "PnA7XTlR7mbz"
      },
      "source": [
        "'''\n",
        "Use  the  pinhole  camera  model  to  calculate  the  coordinates  (x’,y’)\n",
        "of the  image  of  a  point  in  3D  space  which  has  coordinates (x,y,z)\n",
        "relative to the opitical centre\n",
        "'''\n",
        "# Arguments\n",
        "# x′=f′x/z\n",
        "# y′=f′y/z\n",
        "\n",
        "# ALL MUST BE SAME unit\n",
        "\n",
        "f = 30  # mm\n",
        "x = 400\n",
        "y = 500\n",
        "z = 6000\n"
      ],
      "execution_count": null,
      "outputs": []
    },
    {
      "cell_type": "code",
      "metadata": {
        "id": "hwtlq7-f8-3t"
      },
      "source": [
        "def calculate_updated_x(f,x,z):\n",
        "  return f * x / z\n",
        "\n",
        "def calculate_updated_y(f,y,z):\n",
        "  return f * y / z\n",
        "\n",
        "def projected_pair(f,x,y,z):\n",
        "  x_prime = calculate_updated_x(f,x,z)\n",
        "  y_prime = calculate_updated_y(f,y,z)\n",
        "  return (x_prime, y_prime)\n",
        "\n",
        "projected_pair(f,x,y,z)"
      ],
      "execution_count": null,
      "outputs": []
    },
    {
      "cell_type": "code",
      "metadata": {
        "id": "Kx8AlH74-JbZ"
      },
      "source": [
        "# THIN LENS\n",
        "# 1/f = 1/||z|| + 1/||z'||\n",
        "#  1/||z'|| = 1/f - 1||z||\n",
        "\n",
        "def thin_lens(f,z):\n",
        "  # return z' - depth of image plane to make object in focus.\n",
        "  return (1/f - 1/z) ** -1\n",
        "\n",
        "thin_lens(f,z)"
      ],
      "execution_count": null,
      "outputs": []
    },
    {
      "cell_type": "markdown",
      "metadata": {
        "id": "vR-AK2LhD2jF"
      },
      "source": [
        "## Magnification Factors & Locations/Ref"
      ]
    },
    {
      "cell_type": "markdown",
      "metadata": {
        "id": "jw7U8CngWGic"
      },
      "source": [
        ""
      ]
    },
    {
      "cell_type": "code",
      "metadata": {
        "id": "t6ZQQzQhD9zb"
      },
      "source": [
        "# MAGNINFICATION\n",
        "\n",
        "# Arguments -mm\n",
        "# α=−f′/sx\n",
        "# β=−f′/sy\n",
        "# CCD \n",
        "\n",
        "f = 20    # image plane distance\n",
        "\n",
        "CCD_x = 12\n",
        "CCD_y = 12\n",
        "\n",
        "pixels_x = 800\n",
        "pixels_y = 600\n"
      ],
      "execution_count": null,
      "outputs": []
    },
    {
      "cell_type": "code",
      "metadata": {
        "id": "rxCyHWmdEKKw"
      },
      "source": [
        "def pixel_size_by_direction(direction, pixels):\n",
        "  return direction/pixels\n",
        "\n",
        "def magnification_factor(f,s):\n",
        "  return -f/s\n",
        "\n",
        "def magnification_factors(CCDx, CCDy, f, x_pixels, y_pixels):\n",
        "  Sx = pixel_size_by_direction(CCDx, x_pixels)\n",
        "  Sy = pixel_size_by_direction(CCDy, y_pixels)\n",
        "\n",
        "  a = magnification_factor(f, Sx)\n",
        "  B = magnification_factor(f, Sy)\n",
        "\n",
        "  return (a,B)\n",
        "\n",
        "magnification_factors(CCD_x, CCD_y, f, pixels_x, pixels_y)"
      ],
      "execution_count": null,
      "outputs": []
    },
    {
      "cell_type": "code",
      "metadata": {
        "id": "AZ3_PKVNHXWF"
      },
      "source": [
        "# LOCATION - to compute U,V\n",
        "\n",
        "a = 925\n",
        "B = 740\n",
        "\n",
        "# Usually the center (so x_pixels/2, y_pixels/2)\n",
        "Ox = 244\n",
        "Oy = 180\n",
        "\n",
        "# x,y z values\n",
        "x = -10\n",
        "y = 60\n",
        "z = 650\n",
        "\n",
        "def get_image_ref(alpha, beta, ox, oy, x, y, z):\n",
        "    \n",
        "    proj_op = np.array([[1,0,0,0],[0,1,0,0],[0,0,1,0]])\n",
        "  \n",
        "    cam_params = np.array([[alpha,0,ox],[0,beta,oy],[0,0,1]])\n",
        "\n",
        "    coord = np.array([[x],[y],[z],[1]])\n",
        "\n",
        "    ans = np.matmul(np.matmul(cam_params, proj_op),coord)\n",
        "    print(\"REMEMBER TO ROUND NORMALLY (unless its for cross-ratio)! <5 ROUND DOWN, ≥5 ROUND UP\")\n",
        "    return (1/z) * ans\n",
        "\n",
        "get_image_ref(a, B, Ox, Oy, x, y, z)"
      ],
      "execution_count": null,
      "outputs": []
    },
    {
      "cell_type": "markdown",
      "metadata": {
        "id": "cLRvQL5qMHkq"
      },
      "source": [
        "## Correspondence Depth From Movement Along X axis (perpendicular to optical axis)"
      ]
    },
    {
      "cell_type": "code",
      "metadata": {
        "id": "5s6CMgwtMK78"
      },
      "source": [
        "# Arguments\n",
        "# 1000mm = 1m, 1mm = 0.001\n",
        "\n",
        "time1 = 1\n",
        "time2 = 1.04\n",
        "\n",
        "# Focal length (NOTE: meters)\n",
        "f = 0.035\n",
        "\n",
        "# pixel size of the camera (NOTE: meters/pixel)\n",
        "pixel_size = 0.0001\n",
        "\n",
        "# camera movement (NOTE: meters/second)\n",
        "movement = 0.5\n",
        "\n",
        "# Corresponding points. (x,y)\n",
        "I1_loc = (110,50)\n",
        "I2_loc = (95,50)\n"
      ],
      "execution_count": null,
      "outputs": []
    },
    {
      "cell_type": "code",
      "metadata": {
        "id": "as_qTd1yOMjm"
      },
      "source": [
        "def x_move_depth(f,movement,p1, p2, t1, t2, size=1):\n",
        "  '''\n",
        "    Z= − fVx/ ̇x\n",
        "    returns meters\n",
        "  '''\n",
        "\n",
        "  t_diff = t2-t1\n",
        "  x_diff = p2[0]-p1[0]\n",
        "\n",
        "  velocity_pixel = x_diff / t_diff    # pixels /second\n",
        "\n",
        "  x_dot = size * velocity_pixel\n",
        "\n",
        "  Z = - f * movement / x_dot \n",
        "\n",
        "  return Z\n",
        "\n",
        "# May need to ignore rounding errors\n",
        "x_move_depth(f, movement, I1_loc, I2_loc, time1, time2, pixel_size)"
      ],
      "execution_count": null,
      "outputs": []
    },
    {
      "cell_type": "markdown",
      "metadata": {
        "id": "tbVFe4xqTXaK"
      },
      "source": [
        "## Correspondence Depth, Camera Moves Along Z axis (along optical axis)"
      ]
    },
    {
      "cell_type": "code",
      "metadata": {
        "id": "fg1e3RlNTdof"
      },
      "source": [
        "# Arguments\n",
        "# 1000mm = 1m, 1mm = 0.001\n",
        "\n",
        "time1 = 10.2\n",
        "time2 = 10.3\n",
        "\n",
        "# centre coordinates\n",
        "centre = (3, 3)\n",
        "\n",
        "# camera movement (NOTE: meters/second)\n",
        "movement = 0.2\n",
        "\n",
        "# size, if not mentioned = 1\n",
        "pixel_size=0.00015\n",
        "\n",
        "# Corresponding points. (x,y)\n",
        "I1_loc = (3,3)\n",
        "I2_loc = (2,3)"
      ],
      "execution_count": null,
      "outputs": []
    },
    {
      "cell_type": "code",
      "metadata": {
        "id": "smedFk4SUG5d"
      },
      "source": [
        "def z_move_depth(centre, movement,p1, p2, t1, t2,size=1):\n",
        "  '''\n",
        "    Z = xVz / ̇x\n",
        "    returns meters\n",
        "  '''\n",
        "\n",
        "  t_diff = t2-t1\n",
        "  p1_centre_x_diff = p1[0] - centre[0]\n",
        "  p2_centre_x_diff = p2[0] - centre[0]\n",
        "  x_diff = p2_centre_x_diff - p1_centre_x_diff\n",
        "\n",
        "  velocity_pixel = x_diff / t_diff  # pixels / second\n",
        "\n",
        "  x_dot = size * velocity_pixel\n",
        "\n",
        "  Z = p1_centre_x_diff * movement / x_dot \n",
        "\n",
        "  return Z\n",
        "\n",
        "# May need to ignore rounding errors, size is 1\n",
        "z_move_depth(centre, movement, I1_loc, I2_loc, time1, time2)"
      ],
      "execution_count": null,
      "outputs": []
    },
    {
      "cell_type": "markdown",
      "metadata": {
        "id": "6jCBfwjc3WJn"
      },
      "source": [
        "## Time To Collision (no depth recovery)"
      ]
    },
    {
      "cell_type": "code",
      "metadata": {
        "id": "00EgfWG83ebc"
      },
      "source": [
        "# Arguments\n",
        "# 1000mm = 1m, 1mm = 0.001\n",
        "# Assumes constant camera velocity.\n",
        "time1 = 1\n",
        "time2 = 1.04\n",
        "\n",
        "# centre coordinates\n",
        "centre = (100, 100)\n",
        "\n",
        "# size, if not mentioned = 1\n",
        "pixel_size=1\n",
        "\n",
        "# Corresponding points. (x,y)\n",
        "T1_loc = (140,100)\n",
        "T2_loc = (145,100)\n",
        "\n",
        "def time_to_collision(centre,p1, p2, t1, t2,size=1):\n",
        "  '''\n",
        "    T =  x1 / ̇x\n",
        "    returns seconds\n",
        "  '''\n",
        "\n",
        "  t_diff = t2-t1\n",
        "  p1_centre_x_diff = p1[0] - centre[0]\n",
        "  p2_centre_x_diff = p2[0] - centre[0]\n",
        "  x_diff = p2_centre_x_diff - p1_centre_x_diff\n",
        "\n",
        "  velocity_pixel = x_diff / t_diff  # pixels / second\n",
        "\n",
        "  x_dot = size * velocity_pixel\n",
        "\n",
        "  T = p1_centre_x_diff / x_dot \n",
        "\n",
        "  return T\n",
        "\n",
        "time_to_collision(centre, T1_loc, T2_loc, time1, time2)"
      ],
      "execution_count": null,
      "outputs": []
    },
    {
      "cell_type": "markdown",
      "metadata": {
        "id": "rCZ4dZQ55hOZ"
      },
      "source": [
        "## Image Diff, Sub, Average"
      ]
    },
    {
      "cell_type": "markdown",
      "metadata": {
        "id": "xEFTpTo35udi"
      },
      "source": [
        "not done but check lec 8, q7 (havent seen in exam before)"
      ]
    },
    {
      "cell_type": "markdown",
      "metadata": {
        "id": "ndvzsSaFqgcU"
      },
      "source": [
        "## Depth From Coplanar with collinear X axis (No Time)"
      ]
    },
    {
      "cell_type": "code",
      "metadata": {
        "id": "WbIB8Qwmq6QL"
      },
      "source": [
        "# Depth of Right Image (= Depth Left image).\n",
        "\n",
        "# Arguments\n",
        "# 1000mm = 1m, 1mm = 0.001\n",
        "\n",
        "# Corresponding points have same y-axis (epipolar constraint)\n",
        "\n",
        "# Focal length meters\n",
        "f = 0.03    \n",
        "\n",
        "# B - displacement of 2nd camera - meters\n",
        "B = 0.4\n",
        "\n",
        "# pixel size of the camera\n",
        "size = 0.0001\n",
        "\n",
        "left_loc = (231,345)\n",
        "right_loc = (45, 345)\n"
      ],
      "execution_count": null,
      "outputs": []
    },
    {
      "cell_type": "code",
      "metadata": {
        "id": "wv21UAuBsHmk"
      },
      "source": [
        "def coplanar_x_colinear(f,B, left_point,right_point,size=1):\n",
        "  '''\n",
        "    Z=fB / xL−xR\n",
        "\n",
        "    returns meters\n",
        "  '''\n",
        "  fB = f * B\n",
        "\n",
        "  x_diff = left_point[0] - right_point[0]\n",
        "\n",
        "  return fB / (size * x_diff)\n",
        "\n",
        "\n",
        "coplanar_x_colinear(f, B, left_loc, right_loc, size)"
      ],
      "execution_count": null,
      "outputs": []
    },
    {
      "cell_type": "markdown",
      "metadata": {
        "id": "YdmhC7gMjU_e"
      },
      "source": [
        "## Hough Transform"
      ]
    },
    {
      "cell_type": "code",
      "metadata": {
        "id": "U6jSyL4XjZYd"
      },
      "source": [
        "# Arguments\n",
        "\n",
        "'''\n",
        "e.g. matrix = [\n",
        "  [1, 0],\n",
        "  [1, 1]\n",
        "]\n",
        "# start from 0,0 where (col,row)\n",
        "EG: positive_locations - [(0,0), (0,1), (1,1)]\n",
        "\n",
        "results will show in order of angles\n",
        "not really sure what table means but select the one with highest number\n",
        "'''\n",
        "R = 4\n",
        "\n",
        "# R will not be greater than the length of the diagonal (i.e√(32+ 22) = 3.6, \n",
        "# so roundingup, maximum absolute value of r is 4)\n",
        "\n",
        "positive_locations = [(0,0), (1,1), (2,2)]\n",
        "angles = [0, 45, 90, 135]\n"
      ],
      "execution_count": null,
      "outputs": []
    },
    {
      "cell_type": "code",
      "metadata": {
        "id": "tvjPDu_vko2f",
        "colab": {
          "base_uri": "https://localhost:8080/"
        },
        "outputId": "4d11a11f-eca2-4213-d374-4dc6ab41c56d"
      },
      "source": [
        "def r_calculate(theta, x, y):\n",
        "  r = y * np.cos(np.deg2rad(theta)) - x * np.sin(np.deg2rad(theta))\n",
        "  return int(round(r))\n",
        "\n",
        "def perform_hough(positives, angles, R):\n",
        "\n",
        "  ACC = {r: [0]*len(angles) for r in range(R,-(R+1),-1) }\n",
        "\n",
        "  for x, y in positives:\n",
        "    for i, t in enumerate(angles):\n",
        "      r_key = r_calculate(t,x,y)\n",
        "      ACC[r_key][i]+=1\n",
        "\n",
        "  print(\" \"*2 + str(angles))\n",
        "  for k, v in ACC.items():\n",
        "    print(str(k) + \": \" + str(v))\n",
        "\n",
        "perform_hough(positive_locations, angles, R)"
      ],
      "execution_count": null,
      "outputs": [
        {
          "output_type": "stream",
          "text": [
            "  [0, 45, 90, 135]\n",
            "4: [0, 0, 0, 0]\n",
            "3: [0, 0, 0, 0]\n",
            "2: [1, 0, 0, 0]\n",
            "1: [1, 0, 0, 0]\n",
            "0: [1, 3, 1, 1]\n",
            "-1: [0, 0, 1, 1]\n",
            "-2: [0, 0, 1, 0]\n",
            "-3: [0, 0, 0, 1]\n",
            "-4: [0, 0, 0, 0]\n"
          ],
          "name": "stdout"
        }
      ]
    },
    {
      "cell_type": "markdown",
      "metadata": {
        "id": "69HOjKsFwake"
      },
      "source": [
        "## HARRIS"
      ]
    },
    {
      "cell_type": "code",
      "metadata": {
        "id": "oDo6lsGkwe21"
      },
      "source": [
        "# As seen on 16-17 5d\n",
        "'''\n",
        "(i) R≈0 occurs where intensity values are unchanging\n",
        "(ii) R<0 occurs at edges\n",
        "(iii) R>0 occurs at corners.\n",
        "'''\n",
        "# Arguments\n",
        "\n",
        "# Image intentisities in x and y directions\n",
        "\n",
        "k = 0.05\n",
        "window = 3\n",
        "\n",
        "Ix = [\n",
        "      [1, 0, -2], \n",
        "      [0, -1, 0],\n",
        "      [0, -3, 1],\n",
        "]\n",
        "\n",
        "Iy = [\n",
        "       [2, 1, -3],\n",
        "       [0, 0, 0],\n",
        "       [0, -2, 1],\n",
        "]\n"
      ],
      "execution_count": null,
      "outputs": []
    },
    {
      "cell_type": "code",
      "metadata": {
        "id": "hsDNr7ERxVvl"
      },
      "source": [
        "def sum_patch(m, axis):\n",
        "  return np.sum(m,axis=axis)\n",
        "\n",
        "\n",
        "def harris_R_measure(Ix, Iy, k, window):\n",
        "  #  R=[∑I2x∑I2y−(∑IxIy)2]−k[∑I2x+∑I2y]2\n",
        "\n",
        "  Ix2 = np.square(Ix)\n",
        "  # print(Ix2)\n",
        "  Iy2 = np.square(Iy)\n",
        "  # print(Iy2)\n",
        "  IxIy = np.multiply(Ix,Iy)\n",
        "  # print(IxIy)\n",
        "  Ix2_patches = get_matrix_patches(Ix2, window, True)\n",
        "  Iy2_patches = get_matrix_patches(Iy2, window, True)\n",
        "  IxIy_patches = get_matrix_patches(IxIy, window, True)\n",
        "  \n",
        "  # 0, 3\n",
        "  axis = (2,3)\n",
        "\n",
        "  SUM_Ix2 = sum_patch(Ix2_patches, axis)\n",
        "  SUM_Iy2 = sum_patch(Iy2_patches, axis)\n",
        "  SUM_IxIy = sum_patch(IxIy_patches, axis)\n",
        "\n",
        "  a = np.multiply(SUM_Ix2, SUM_Iy2)\n",
        "  c = np.subtract(a, np.square(SUM_IxIy))\n",
        "\n",
        "  d = -k * np.square(np.add(SUM_Ix2, SUM_Iy2))\n",
        "\n",
        "  R = np.add(c,d)\n",
        "\n",
        "  return R\n",
        "\n",
        "harris_R_measure(Ix,Iy, k, window)"
      ],
      "execution_count": null,
      "outputs": []
    },
    {
      "cell_type": "markdown",
      "metadata": {
        "id": "mS05uMt7mpnR"
      },
      "source": [
        "## Compare template To Matrix"
      ]
    },
    {
      "cell_type": "code",
      "metadata": {
        "id": "U6vK_uLrmtzp"
      },
      "source": [
        "# will compare a patch (from one image), \n",
        "# against all patches in a matrix (another image)\n",
        "# using some metric\n",
        "\n",
        "# arguments\n",
        "\n",
        "template = [\n",
        "    [0, 1, 0, 0],\n",
        "    [1, 0, 0, 0],\n",
        "    [0, 1, 0, 1],\n",
        "    [1, 0, 1, 0],\n",
        "]\n",
        "\n",
        "image_matrix = [\n",
        "    [0, 0, 0, 0],\n",
        "    [1, 0, 1, 0],\n",
        "    [1, 1, 1, 0],\n",
        "    [0, 1, 0, 0],\n",
        "]\n",
        "\n",
        "# from functions at the top:\n",
        "# euclidean, SAD, cross_correlation, normalised_cross_correlation, correlation_coefficient\n",
        "similairty_func = cross_correlation\n",
        "\n",
        "# Set to true if you want 0 padded.\n",
        "padded = False\n"
      ],
      "execution_count": null,
      "outputs": []
    },
    {
      "cell_type": "code",
      "metadata": {
        "id": "9ZKfdUsP9QkF"
      },
      "source": [
        "def metric_across_patches(image, template, metric, pad):\n",
        "  template = np.array(template)\n",
        "  t_rows, _ = template.shape\n",
        "  flatten_template = template.flatten()\n",
        "  patches = get_matrix_patches(image,t_rows, pad)\n",
        "  rows, cols, _, __ = patches.shape\n",
        "  result = []\n",
        "  for r in range(rows):\n",
        "    row_sim = []\n",
        "    row_patches = patches[r]\n",
        "    for p in row_patches:\n",
        "      compare = [flatten_template, p.flatten()]\n",
        "      c_res = pdist(compare, metric=metric)\n",
        "      row_sim.append(c_res[0])\n",
        "    result.append(row_sim)\n",
        "\n",
        "  result = np.array(result)\n",
        "  return result\n",
        "\n",
        "print('NOTE BE CAREFUL - exam may require 1-index in (col,row)')\n",
        "print('BE CAREFUL WITH NUMPY WHOLE NUMBERS, >5 0\\'s, 9\\'s round appropriately  ')\n",
        "metric_across_patches(image_matrix, template, similairty_func, padded)"
      ],
      "execution_count": null,
      "outputs": []
    },
    {
      "cell_type": "markdown",
      "metadata": {
        "id": "JcOoU0ISTlo1"
      },
      "source": [
        "### Edge Matching Helper"
      ]
    },
    {
      "cell_type": "markdown",
      "metadata": {
        "id": "LzhdWpIbTp5q"
      },
      "source": [
        "Tutorial 9 q4\n",
        "\n",
        "\n",
        "Average of the minimum distances, where min distance is euclidean. \n",
        "\n",
        "'closest distance from value in template position to same value position in image patch'   "
      ]
    },
    {
      "cell_type": "markdown",
      "metadata": {
        "id": "VEECFGk7NAq3"
      },
      "source": [
        "### Number Of Operations"
      ]
    },
    {
      "cell_type": "markdown",
      "metadata": {
        "id": "_AphbA7cNEjT"
      },
      "source": [
        "Tutorial 9, q2. - Normalised Cross Correlations "
      ]
    },
    {
      "cell_type": "code",
      "metadata": {
        "id": "1Gjx0z9yO2Iy"
      },
      "source": [
        "# total number of templates * number of patches * opperations per 1\n",
        "\n",
        "# This method helps you calculate number of patches\n",
        "pad_image = False\n",
        "height = 200\n",
        "width = 300\n",
        "\n",
        "# 3x3 kernel has size 3\n",
        "kernel_size = 11\n"
      ],
      "execution_count": null,
      "outputs": []
    },
    {
      "cell_type": "code",
      "metadata": {
        "id": "HlCssJ6qPSEu"
      },
      "source": [
        "def number_of_patches(h, w, pad, size):\n",
        "  image = np.zeros((h,w))\n",
        "  matrix_patches = get_matrix_patches(image, size, pad)\n",
        "  rows,cols,_, __ = matrix_patches.shape\n",
        "\n",
        "  return rows*cols\n",
        "\n",
        "number_of_patches(height, width,pad_image, kernel_size)"
      ],
      "execution_count": null,
      "outputs": []
    },
    {
      "cell_type": "markdown",
      "metadata": {
        "id": "1ihXIgj6Tjjr"
      },
      "source": [
        ""
      ]
    },
    {
      "cell_type": "markdown",
      "metadata": {
        "id": "gnHKinzLY0F-"
      },
      "source": [
        "## Bayes Helper"
      ]
    },
    {
      "cell_type": "markdown",
      "metadata": {
        "id": "GzJy87LfY5v8"
      },
      "source": [
        "exam 17-18 6d, tutorial 10, q9"
      ]
    },
    {
      "cell_type": "code",
      "metadata": {
        "id": "dMq-Km5aY39e"
      },
      "source": [
        "# Arguments\n",
        "\n",
        "#  p(A | I) = p(I | O) * p(O) / p(I)\n",
        "# posterier = likelihood * prior / evidence\n",
        "\n",
        "# p(A)\n",
        "pA = 0.8  # p(A)\n",
        "\n",
        "# Assumed that P(I) = 1\n",
        "pI = 1\n",
        "\n",
        "pIgA = 0.02   #p(I | A)\n",
        "\n"
      ],
      "execution_count": null,
      "outputs": []
    },
    {
      "cell_type": "code",
      "metadata": {
        "id": "4SEIBsHTu845"
      },
      "source": [
        "def p_A_given_I(pIgA, pA, pI):\n",
        "  return (pIgA * pA) / pI\n",
        "\n",
        "p_A_given_I(pIgA, pA, pI)"
      ],
      "execution_count": null,
      "outputs": []
    }
  ]
}